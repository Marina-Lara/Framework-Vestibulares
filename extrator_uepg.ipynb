{
 "cells": [
  {
   "cell_type": "markdown",
   "metadata": {},
   "source": [
    "# Raspagem de informações do vestibular UEPG"
   ]
  },
  {
   "cell_type": "markdown",
   "metadata": {},
   "source": [
    "### Bibliotecas utilizadas"
   ]
  },
  {
   "cell_type": "code",
   "execution_count": 1,
   "metadata": {},
   "outputs": [],
   "source": [
    "from selenium import webdriver\n",
    "from time import sleep \n",
    "import pandas as pd"
   ]
  },
  {
   "cell_type": "markdown",
   "metadata": {},
   "source": [
    "### Etapa 1 - abrir página"
   ]
  },
  {
   "cell_type": "code",
   "execution_count": 2,
   "metadata": {},
   "outputs": [],
   "source": []
  },
  {
   "cell_type": "markdown",
   "metadata": {},
   "source": [
    "### Etapa 2 - extrair conteúdo"
   ]
  },
  {
   "cell_type": "code",
   "execution_count": 28,
   "metadata": {},
   "outputs": [],
   "source": [
    "def pagina_vestibular():\n",
    "    vestibular = driver.find_element_by_xpath(\"\"\"//*[@id=\"content-1column\"]/section/div/article/table/tbody/tr[3]/td[1]/a[1]\"\"\")\n",
    "    vestibular.click()\n",
    "    \n",
    "def vestibular_atual():\n",
    "    vestibular_atual = driver.find_element_by_xpath(\"\"\"//*[@id=\"content-1column\"]/article/table/tbody/tr[2]/td/p[1]/span\"\"\")\n",
    "    return print(vestibular_atual)\n",
    "\n",
    "def informaçoes():\n",
    "    informaçoes = ''\n",
    "    for i in range (1, 9):\n",
    "        a = driver.find_element_by_xpath(f'//*[@id=\"content-1column\"]/article/table/tbody/tr[3]/td/table/tbody/tr/td[2]/table/tbody/tr[{i}]').text\n",
    "        informaçoes += a + '\\n'\n",
    "    return print(informaçoes)\n"
   ]
  },
  {
   "cell_type": "code",
   "execution_count": 22,
   "metadata": {},
   "outputs": [],
   "source": [
    "driver = obter_driver()\n",
    "abrir_pagina(driver, 'https://cps.uepg.br/inicio/')\n",
    "sleep(5)"
   ]
  },
  {
   "cell_type": "code",
   "execution_count": 23,
   "metadata": {
    "scrolled": true
   },
   "outputs": [],
   "source": [
    "pagina_vestibular()"
   ]
  },
  {
   "cell_type": "code",
   "execution_count": 24,
   "metadata": {
    "scrolled": true
   },
   "outputs": [
    {
     "name": "stdout",
     "output_type": "stream",
     "text": [
      "<selenium.webdriver.remote.webelement.WebElement (session=\"7694fe0240b88db18f4203963743d8c6\", element=\"3f86179f-3bd9-494f-800a-cb2d338cfe82\")>\n"
     ]
    }
   ],
   "source": [
    "vestibular_atual()"
   ]
  },
  {
   "cell_type": "code",
   "execution_count": 29,
   "metadata": {
    "scrolled": true
   },
   "outputs": [
    {
     "name": "stdout",
     "output_type": "stream",
     "text": [
      " Período de inscrição:  01/11/2021 a 29/11/2021\n",
      " Pagamento da taxa de inscrição:  até 30/11/2021\n",
      " Período de Retificação:  01/12/2021 a 05/12/2021\n",
      " Taxa de inscrição:  R$ 157,00\n",
      " Divulgação do ensalamento: a partir de 20/02/2022\n",
      " Aplicação das provas: 20/03/2022 (domingo - manhã e tarde)\n",
      " Divulgação dos gabaritos: 20/03/2022 (a partir das 20h00min)\n",
      " Divulgação dos resultados (1ª chamada) : até 05/04/2022\n",
      "\n"
     ]
    }
   ],
   "source": [
    "informaçoes()"
   ]
  },
  {
   "cell_type": "markdown",
   "metadata": {},
   "source": [
    "## Etapa 3 - Modelagem OO "
   ]
  },
  {
   "cell_type": "code",
   "execution_count": 37,
   "metadata": {},
   "outputs": [],
   "source": [
    "class ExtratorUEPGVest:\n",
    "    \"\"\"\n",
    "    O ExtratorUEPGVest é uma classe utilitária que facilita a extração das informações sobre o vestibular atual da Univesidade Estadual de Ponta Grossa (UEPG)   \n",
    "    \"\"\"\n",
    "    def __init__(self, driver=None):\n",
    "        \"\"\"\n",
    "        Construtor\n",
    "        \"\"\"\n",
    "        self.driver = webdriver.Chrome() if not driver else driver\n",
    "        self.driver.get(\"https://cps.uepg.br/inicio/\")\n",
    "        self.lst_informações = []\n",
    "        self.qntd_linhas = 9\n",
    "        \n",
    "    def pagina_vestibular(self):\n",
    "        \"\"\"\n",
    "        Seleciona o último vestibular para visualizar mais detalhes sobre\n",
    "        \"\"\"\n",
    "        # Clica no ùltimo vestibular postado\n",
    "        vestibular = self.driver.find_element_by_xpath(\"\"\"//*[@id=\"content-1column\"]/section/div/article/table/tbody/tr[3]/td[1]/a[1]\"\"\")\n",
    "        vestibular.click()\n",
    "\n",
    "    def informações_vestibular(self):\n",
    "        \"\"\"\n",
    "        Extrai as informações do vestibular\n",
    "        \"\"\"\n",
    "        # Grava o nome do vestibular\n",
    "        vestibular_atual = self.driver.find_element_by_xpath(\"\"\"//*[@id=\"content-1column\"]/article/table/tbody/tr[2]/td/p[1]/span\"\"\")\n",
    "        self.lst_informações.append(vestibular_atual.text)\n",
    "        \n",
    "        # Extrai as informações como data de abertura e encerramento de inscrições, data de liberação dos resultados, taxa de inscrição etc.\n",
    "        for i in range (1, self.qntd_linhas):\n",
    "            xpath_linhas = f'//*[@id=\"content-1column\"]/article/table/tbody/tr[3]/td/table/tbody/tr/td[2]/table/tbody/tr[{i}]'\n",
    "            informações = self.driver.find_element_by_xpath(xpath_linhas)\n",
    "            self.lst_informações.append(informações.text)"
   ]
  },
  {
   "cell_type": "code",
   "execution_count": 38,
   "metadata": {},
   "outputs": [],
   "source": [
    "uepg = ExtratorUEPGVest()"
   ]
  },
  {
   "cell_type": "code",
   "execution_count": 39,
   "metadata": {},
   "outputs": [],
   "source": [
    "uepg.pagina_vestibular()"
   ]
  },
  {
   "cell_type": "code",
   "execution_count": 40,
   "metadata": {
    "scrolled": true
   },
   "outputs": [],
   "source": [
    "uepg.informações_vestibular()"
   ]
  },
  {
   "cell_type": "code",
   "execution_count": 41,
   "metadata": {
    "scrolled": true
   },
   "outputs": [
    {
     "data": {
      "text/plain": [
       "['VESTIBULAR DE OUTONO',\n",
       " ' Período de inscrição:  01/11/2021 a 29/11/2021',\n",
       " ' Pagamento da taxa de inscrição:  até 30/11/2021',\n",
       " ' Período de Retificação:  01/12/2021 a 05/12/2021',\n",
       " ' Taxa de inscrição:  R$ 157,00',\n",
       " ' Divulgação do ensalamento: a partir de 20/02/2022',\n",
       " ' Aplicação das provas: 20/03/2022 (domingo - manhã e tarde)',\n",
       " ' Divulgação dos gabaritos: 20/03/2022 (a partir das 20h00min)',\n",
       " ' Divulgação dos resultados (1ª chamada) : até 05/04/2022']"
      ]
     },
     "execution_count": 41,
     "metadata": {},
     "output_type": "execute_result"
    }
   ],
   "source": [
    "uepg.lst_informações"
   ]
  },
  {
   "cell_type": "code",
   "execution_count": null,
   "metadata": {},
   "outputs": [],
   "source": []
  }
 ],
 "metadata": {
  "kernelspec": {
   "display_name": "Python 3",
   "language": "python",
   "name": "python3"
  },
  "language_info": {
   "codemirror_mode": {
    "name": "ipython",
    "version": 3
   },
   "file_extension": ".py",
   "mimetype": "text/x-python",
   "name": "python",
   "nbconvert_exporter": "python",
   "pygments_lexer": "ipython3",
   "version": "3.8.5"
  }
 },
 "nbformat": 4,
 "nbformat_minor": 4
}
