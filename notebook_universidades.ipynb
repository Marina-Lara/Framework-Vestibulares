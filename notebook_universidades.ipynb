{
 "cells": [
  {
   "cell_type": "code",
   "execution_count": 239,
   "metadata": {},
   "outputs": [],
   "source": [
    "from selenium import webdriver\n",
    "from time import sleep \n",
    "import pandas as pd\n",
    "from selenium import webdriver\n",
    "from selenium.webdriver.common.keys import Keys\n",
    "from time import sleep\n",
    "import pandas as pd\n",
    "import csv\n",
    "from datetime import date\n",
    "import re\n",
    "import numpy as np"
   ]
  },
  {
   "cell_type": "code",
   "execution_count": 117,
   "metadata": {},
   "outputs": [],
   "source": [
    "pd.set_option('display.max_rows', 1000)\n",
    "pd.set_option('display.max_columns', 1000)"
   ]
  },
  {
   "cell_type": "markdown",
   "metadata": {},
   "source": [
    "# Extração"
   ]
  },
  {
   "cell_type": "markdown",
   "metadata": {},
   "source": [
    "## Definindo Super Classe"
   ]
  },
  {
   "cell_type": "code",
   "execution_count": 118,
   "metadata": {},
   "outputs": [],
   "source": [
    "class CarregarPagina:\n",
    "    \"\"\"\n",
    "    O CarregarPagina é uma Super classe utilitária que facilita o acesso a páginas da web   \n",
    "    \"\"\"\n",
    "    def __init__(self, url, driver=None):\n",
    "        options = webdriver.ChromeOptions()\n",
    "        options.add_argument(\"--headless\")\n",
    "        self.driver = webdriver.Chrome(chrome_options=options) if not driver else driver\n",
    "        self.url = url\n",
    "        self.driver.get(self.url)\n"
   ]
  },
  {
   "cell_type": "markdown",
   "metadata": {},
   "source": [
    "## Definindo Classes\n",
    "Nessa sessão definimos as classes específicas para cada uma das páginas das universidades das quais queremos extrair informações. Essas classes extraem e fazem o pré tratamento dos dados que julgamos importantes para nosso resultado final."
   ]
  },
  {
   "cell_type": "markdown",
   "metadata": {},
   "source": [
    "### Extrator UEPG"
   ]
  },
  {
   "cell_type": "code",
   "execution_count": 119,
   "metadata": {},
   "outputs": [],
   "source": [
    "class ExtratorUEPG(CarregarPagina):\n",
    "    \"\"\"\n",
    "    O ExtratorUEPG é uma classe utilitária que facilita a extração das informações sobre o vestibular de verão atual da Univesidade Estadual de Ponta Grossa (UEPG)   \n",
    "    \"\"\"\n",
    "    def __init__(self,  url = \"https://cps.uepg.br/inicio/\"):\n",
    "        \"\"\"\n",
    "        Inicializador\n",
    "\n",
    "        url = endereço da página desejada\n",
    "        lst_informações = armazena as iformações coletadas\n",
    "        qntd_linhas = define o número de linhas a serem percorridas pelo nosso extrator\n",
    "        \"\"\"\n",
    "        super().__init__(url)\n",
    "        self.lst_informações = []\n",
    "        self.qntd_linhas = 9\n",
    "\n",
    "   \n",
    "    def pagina_vestibular(self):\n",
    "        \"\"\"\n",
    "        Seleciona o último vestibular para visualizar mais detalhes sobre\n",
    "        \"\"\"\n",
    "        # Clica no ùltimo vestibular postado\n",
    "        vestibular = self.driver.find_element_by_xpath(\"\"\"//*[@id=\"content-1column\"]/section/div/article/table/tbody/tr[3]/td[1]/a[1]\"\"\")\n",
    "        vestibular.click()\n",
    "\n",
    "    def informações_vestibular(self):\n",
    "        \"\"\"\n",
    "        Extrai as informações do vestibular\n",
    "        \"\"\"\n",
    "        # Grava o nome do vestibular\n",
    "        vestibular_atual = self.driver.find_element_by_xpath(\"\"\"//*[@id=\"content-1column\"]/article/table/tbody/tr[2]/td/p[1]/span\"\"\")\n",
    "        self.lst_informações.append(vestibular_atual.text)\n",
    "        \n",
    "        # Extrai as informações como data de abertura e encerramento de inscrições, data de liberação dos resultados, taxa de inscrição etc.\n",
    "        for i in range (1, self.qntd_linhas):\n",
    "            xpath_linhas = f'//*[@id=\"content-1column\"]/article/table/tbody/tr[3]/td/table/tbody/tr/td[2]/table/tbody/tr[{i}]'\n",
    "            informações = self.driver.find_element_by_xpath(xpath_linhas)\n",
    "            self.lst_informações.append(informações.text)\n",
    "\n",
    "    def atribuir_datas(self):\n",
    "        '''\n",
    "        correlaciona e formata a lista de datas e de títulos\n",
    "        '''\n",
    "        for linha in self.lst_informações:\n",
    "            if 'Período de inscrição' in linha:\n",
    "                texto = linha.split(':')\n",
    "                texto = str(texto[1])\n",
    "                data = texto.split('a')\n",
    "                self.inicio_das_insc = data[0]\n",
    "                self.termino_das_insc = data[1]\n",
    "            elif 'Aplicação das provas' in linha:\n",
    "                texto = linha.split(':')\n",
    "                texto = str(texto[1])\n",
    "                self.primeira_fase = texto\n",
    "\n",
    "    def extrair_informacoes(self):\n",
    "        '''\n",
    "        Reúne tdos os métodos anteriores em apenas um\n",
    "        '''\n",
    "        print('Carregando página UEPG...')\n",
    "        self.pagina_vestibular()\n",
    "        print('Extraindo Informações...')\n",
    "        self.informações_vestibular()\n",
    "        print('Armazenando dados...')\n",
    "        self.atribuir_datas()\n",
    "        print('concluído!')\n"
   ]
  },
  {
   "cell_type": "markdown",
   "metadata": {},
   "source": [
    "### Extrator Nucvest"
   ]
  },
  {
   "cell_type": "code",
   "execution_count": 120,
   "metadata": {},
   "outputs": [],
   "source": [
    "\n",
    "class ExtratorNUCVEST(CarregarPagina):\n",
    "    \"\"\"\n",
    "    O ExtratorNUCVEST é uma classe utilitária que facilita a extração das informações sobre o atual vestibular de verão realizado pela NUCVEST  \n",
    "    \"\"\"\n",
    "    def __init__(self, url = 'https://www.nucvest.com.br/'):\n",
    "        \"\"\"\n",
    "        Inicializador\n",
    "\n",
    "        url = endereço da página desejada\n",
    "        elem_pag = ?????????????\n",
    "        inscricao = armazena informações sobre a inscrição no vestibular\n",
    "        \"\"\"\n",
    "        super().__init__(url)\n",
    "        self.elem_pag = 20\n",
    "        self.inscricao = []\n",
    "        \n",
    "    def aceitarcookies(self):\n",
    "        ''' \n",
    "        Aceita os cookies da página\n",
    "        '''\n",
    "        self.btn_cookie = self.driver.find_element_by_class_name(\"\"\"fundasp-lgpd-button-accept\"\"\")\n",
    "        self.btn_cookie.click()\n",
    "    \n",
    "    def cronograma(self):\n",
    "        '''\n",
    "        abre a página que contem os dados referente ao cronograma \n",
    "        '''\n",
    "        btn = self.driver.find_element_by_class_name(\"\"\"calendar\"\"\")\n",
    "        btn.click()\n",
    "        \n",
    "    def extrair_info_páginas(self):\n",
    "        ''' \n",
    "        coleta as informações uteis para nosso framework\n",
    "        '''\n",
    "        informacoes = []\n",
    "        for i in range(1, self.elem_pag+1):\n",
    "            data = self.driver.find_element_by_xpath(f\"\"\"//*[@id=\"collapseTwo\"]/div/ul/li[{i}]/div[1]\"\"\")\n",
    "            data = data.text\n",
    "            try:\n",
    "                conteudo = self.driver.find_element_by_xpath(f\"\"\"//*[@id=\"collapseTwo\"]/div/ul/li[{i}]/div[2]\"\"\")\n",
    "                conteudo = conteudo.text\n",
    "            except:\n",
    "                conteudo = ''\n",
    "            dados = {'Data':data,\n",
    "                    'Conteudo':conteudo}\n",
    "            informacoes.append(dados)\n",
    "        self.inscricao = informacoes\n",
    "\n",
    "    def formatar_dados(self):\n",
    "        ''' \n",
    "        Faz uma formatação incial dos dados para que possam ser armasenado em nosso banco de dados\n",
    "        '''\n",
    "        for linha in self.inscricao:\n",
    "            if 'Período de Inscrições' in str(linha['Conteudo']):\n",
    "                data = str( linha['Data']).split('a')\n",
    "                print(data[0])\n",
    "                self.inicio_das_insc = data[0]\n",
    "                self.termino_das_insc = data[1]\n",
    "            elif 'Aplicação da prova' in str(linha['Conteudo']):\n",
    "                self.primeira_fase = str(linha['Data']).split('a')\n",
    "\n",
    "    def extrair_informacoes(self):\n",
    "        ''' \n",
    "        Junta todos os métodos anteriores em apenas um\n",
    "        '''\n",
    "        print('Carregando página Nucvest...')\n",
    "        self.aceitarcookies()\n",
    "        self.cronograma()\n",
    "        print('Extraindo Informações...')\n",
    "        self.extrair_info_páginas()\n",
    "        print('Armazenando dados...')\n",
    "        self.formatar_dados()\n",
    "        print('concluído!')"
   ]
  },
  {
   "cell_type": "markdown",
   "metadata": {},
   "source": [
    "### Unifesp"
   ]
  },
  {
   "cell_type": "code",
   "execution_count": 121,
   "metadata": {},
   "outputs": [],
   "source": [
    "class ExtratorUnifesp(CarregarPagina):\n",
    "    \"\"\"\n",
    "    O ExtratorUnifesp é uma classe utilitária que facilita a extração das informações sobre o atual vestibular de verão da Universidade Federal do Estado de São Paulo  \n",
    "\n",
    "    inscricao = armazena os dados referentes a inscrição \n",
    "    \"\"\"\n",
    "    def __init__(self, url = 'https://ingresso.unifesp.br/informacoes-fixas/informacoes-fixas-misto/cronograma-sistema-misto'):\n",
    "        super().__init__(url)\n",
    "        self.inscricao = []\n",
    "        \n",
    "    def extrair_info_páginas(self):\n",
    "        '''\n",
    "        Coleta da página os dados relevantes para o nosso projeto\n",
    "        '''\n",
    "        dados_lst = []\n",
    "        for k in range(1, 12):\n",
    "            data = self.driver.find_element_by_xpath(f\"\"\"//*[@id='g-main']/div/div/div/div/div/div/div/div[2]/table/tbody/tr[{k}]/td[1]\"\"\")\n",
    "            data = data.text\n",
    "            try:\n",
    "                conteudo = self.driver.find_element_by_xpath(f\"\"\"//*[@id='g-main']/div/div/div/div/div/div/div/div[2]/table/tbody/tr[{k}]/td[2]\"\"\")\n",
    "                conteudo = conteudo.text\n",
    "            except:\n",
    "                conteudo = ''\n",
    "            dados = {'Data':data,\n",
    "                    'Conteudo':conteudo}\n",
    "            dados_lst.append(dados)\n",
    "        self.inscricao = dados_lst\n",
    "        \n",
    "    def formatar_dados(self):\n",
    "        '''\n",
    "        Realiza a pré-formatação dos dados para serem adicionados ao nosso banco de dados \n",
    "        '''\n",
    "        for linha in self.inscricao:\n",
    "            if  'Período para pedido de isenção de taxa de inscrição do vestibular' in str(linha['Conteudo']):\n",
    "                data = str( linha['Data']).split('às')\n",
    "                self.inicio_isencao = data[0]\n",
    "                self.termino_isencao = data[1]\n",
    "            elif 'Período de inscrição para as provas complementares' in str(linha['Conteudo']):\n",
    "                data = str( linha['Data']).split('às')\n",
    "                self.inicio_das_insc = data[0]\n",
    "                self.termino_das_insc = data[1]\n",
    "            elif 'Provas Complementares:\\n' in str(linha['Conteudo']):\n",
    "                data = str(linha['Data']).split('\\n')\n",
    "                self.primeira_fase = data[0]\n",
    "                self.primeira_fase_dia2 = data[1]\n",
    "    \n",
    "    def extrair_informacoes(self):\n",
    "        ''' \n",
    "         Junta todos os métodos anteriores em apenas um\n",
    "        '''\n",
    "        print('Extraindo informações Unifesp...')\n",
    "        self.extrair_info_páginas()\n",
    "        print('Formatando dados...')\n",
    "        self.formatar_dados()\n",
    "        print('Concluído!')\n",
    "            "
   ]
  },
  {
   "cell_type": "markdown",
   "metadata": {},
   "source": [
    "### Acafe"
   ]
  },
  {
   "cell_type": "code",
   "execution_count": 122,
   "metadata": {},
   "outputs": [],
   "source": [
    "class ExtratorAcafe(CarregarPagina):\n",
    "    def __init__(self, url = 'https://acafe.org.br/site/', periodo = 'Verão 2022'):\n",
    "        '''\n",
    "        O ExtratorAcafe é uma classe utilitária que facilita a extração das informações sobre o atual vestibular de verão fornecido pela Acafe  \n",
    "\n",
    "        periodo = Qual edição da prova queremos (ex:'Verão 2022', 'Inverno 2022', ...)\n",
    "        '''\n",
    "        super().__init__(url)\n",
    "        self.periodo =  periodo\n",
    "\n",
    "\n",
    "    def abrir_calendario(self):\n",
    "        '''  \n",
    "        Abre o banner html que possui o calendário do vestibular\n",
    "        '''\n",
    "        #fechar banner\n",
    "        try:\n",
    "            sleep(15)\n",
    "            banner = self.driver.find_element_by_xpath(f'''/html/body/div[3]/div/div/div[3]/button''')\n",
    "            banner.click()\n",
    "            print('banner fechado.')\n",
    "        except:\n",
    "            pass\n",
    "        #Aceita os cookies e abre o calendário \n",
    "        aceitar_cookies = self.driver.find_element_by_class_name(f'''btn-cookies''')\n",
    "        print('cookies aceitos.')\n",
    "        abrir_calendario = self.driver.find_element_by_xpath(f'''/html/body/div[5]/div/div[2]''')\n",
    "        print('Calendário aberto.')\n",
    "        sleep(5)\n",
    "        aceitar_cookies.click()\n",
    "        sleep(3)\n",
    "        abrir_calendario.click()    \n",
    "\n",
    "    def extrair_conteudo(self):\n",
    "        '''  \n",
    "        Extrai da página o conteúdo que julgamos relevante para nosso trabalho\n",
    "        '''\n",
    "        #extrai o conteúdo do calendário (os acontecimentos que queremos para o nosso banco de dados e suas respectivas datas)\n",
    "        self.abrir_calendario()\n",
    "        self.titulos_element = self.driver.find_elements_by_tag_name(f'''th''')\n",
    "        self.linhas_element = self.driver.find_elements_by_tag_name(f'''td''')\n",
    "\n",
    "        #organizando conteúdo em listas\n",
    "        linhas = []\n",
    "        for linha in self.linhas_element:\n",
    "            linhas.append(linha.text)\n",
    "        self.linhas = linhas\n",
    "        titulos = []\n",
    "        for titulo in self.titulos_element:\n",
    "            if titulo.text != '':\n",
    "                titulos.append(titulo.text)\n",
    "        self.titulos = titulos\n",
    "\n",
    "    def atribuir_datas(self):\n",
    "        '''\n",
    "        pré-formata e atribui as datas a cada acontecimento importante refernte às provas, para adicionarmos a nossa base de dados\n",
    "        '''\n",
    "        #correlacionando e formatando a lista de datas e de títulos(acontecimento)\n",
    "        self.indice_do_perido = int(self.titulos.index(self.periodo))\n",
    "        for i in range(0,len(self.linhas), len(self.titulos)):\n",
    "            if self.linhas[i] == 'Aplicação da prova':\n",
    "                self.primeira_fase = self.linhas[(i+self.indice_do_perido)]\n",
    "            elif self.linhas[i] == 'Inscrição':\n",
    "                datas = (self.linhas[(i+self.indice_do_perido)]).split('a')\n",
    "                self.inicio_das_insc = datas[0]\n",
    "                self.termino_das_insc = datas[1]  \n",
    "            elif self.linhas[i]   == 'Pagamento':\n",
    "                datas = (self.linhas[(i+self.indice_do_perido)]).split('Até')\n",
    "                self.inicio_pagamento = datas[0]\n",
    "                self.termino_pagamento = datas[1]\n",
    "\n",
    "    def extrair_informacoes(self):\n",
    "        '''\n",
    "        método que ao ser chamado, executa todas os anteriores.\n",
    "        '''\n",
    "        self.extrair_conteudo()\n",
    "        self.atribuir_datas()\n"
   ]
  },
  {
   "cell_type": "markdown",
   "metadata": {},
   "source": [
    "## Realizando Extração"
   ]
  },
  {
   "cell_type": "markdown",
   "metadata": {},
   "source": [
    "### UEPG"
   ]
  },
  {
   "cell_type": "code",
   "execution_count": 123,
   "metadata": {},
   "outputs": [
    {
     "name": "stderr",
     "output_type": "stream",
     "text": [
      "C:\\Users\\marin\\AppData\\Local\\Temp/ipykernel_10768/1654213129.py:8: DeprecationWarning: use options instead of chrome_options\n",
      "  self.driver = webdriver.Chrome(chrome_options=options) if not driver else driver\n"
     ]
    },
    {
     "name": "stdout",
     "output_type": "stream",
     "text": [
      "Carregando página UEPG...\n",
      "Extraindo Informações...\n",
      "Armazenando dados...\n",
      "concluído!\n"
     ]
    }
   ],
   "source": [
    "uepg = ExtratorUEPG()\n",
    "uepg.extrair_informacoes()"
   ]
  },
  {
   "cell_type": "markdown",
   "metadata": {},
   "source": [
    "### Nucvest"
   ]
  },
  {
   "cell_type": "code",
   "execution_count": 124,
   "metadata": {},
   "outputs": [
    {
     "name": "stderr",
     "output_type": "stream",
     "text": [
      "C:\\Users\\marin\\AppData\\Local\\Temp/ipykernel_10768/1654213129.py:8: DeprecationWarning: use options instead of chrome_options\n",
      "  self.driver = webdriver.Chrome(chrome_options=options) if not driver else driver\n"
     ]
    },
    {
     "name": "stdout",
     "output_type": "stream",
     "text": [
      "Carregando página Nucvest...\n",
      "Extraindo Informações...\n",
      "Armazenando dados...\n",
      "11/10 \n",
      "concluído!\n"
     ]
    }
   ],
   "source": [
    "nucvest = ExtratorNUCVEST()\n",
    "nucvest.extrair_informacoes()"
   ]
  },
  {
   "cell_type": "markdown",
   "metadata": {},
   "source": [
    "### Unifesp"
   ]
  },
  {
   "cell_type": "code",
   "execution_count": 125,
   "metadata": {},
   "outputs": [
    {
     "name": "stderr",
     "output_type": "stream",
     "text": [
      "C:\\Users\\marin\\AppData\\Local\\Temp/ipykernel_10768/1654213129.py:8: DeprecationWarning: use options instead of chrome_options\n",
      "  self.driver = webdriver.Chrome(chrome_options=options) if not driver else driver\n"
     ]
    },
    {
     "name": "stdout",
     "output_type": "stream",
     "text": [
      "Extraindo informações Unifesp...\n",
      "Formatando dados...\n",
      "Concluído!\n"
     ]
    }
   ],
   "source": [
    "unifesp = ExtratorUnifesp()\n",
    "unifesp.extrair_informacoes()"
   ]
  },
  {
   "cell_type": "markdown",
   "metadata": {},
   "source": [
    "### Acafe"
   ]
  },
  {
   "cell_type": "code",
   "execution_count": 126,
   "metadata": {},
   "outputs": [
    {
     "name": "stderr",
     "output_type": "stream",
     "text": [
      "C:\\Users\\marin\\AppData\\Local\\Temp/ipykernel_10768/1654213129.py:8: DeprecationWarning: use options instead of chrome_options\n",
      "  self.driver = webdriver.Chrome(chrome_options=options) if not driver else driver\n"
     ]
    },
    {
     "name": "stdout",
     "output_type": "stream",
     "text": [
      "banner fechado.\n",
      "cookies aceitos.\n",
      "Calendário aberto.\n"
     ]
    }
   ],
   "source": [
    "acafe = ExtratorAcafe()\n",
    "acafe.extrair_informacoes()"
   ]
  },
  {
   "cell_type": "markdown",
   "metadata": {},
   "source": [
    "# Incluindo no dataset"
   ]
  },
  {
   "cell_type": "code",
   "execution_count": 155,
   "metadata": {},
   "outputs": [],
   "source": [
    "class ObterDados:\n",
    "    ''' \n",
    "    Adicona os dados coletados à tabela principla\n",
    "    '''\n",
    "    def __init__(self, file = 'ranking_universidades.csv'):\n",
    "        '''   \n",
    "        abre a tabela\n",
    "\n",
    "\n",
    "        ranking = dataset com a tabela principal\n",
    "        '''\n",
    "        self.ranking = pd.read_csv(file, dtype = str, encoding = 'latin-1', sep = ';')\n",
    "        self.ranking.fillna('', inplace = True)\n",
    "    \n",
    "    def adicionar_a_tabela(self):\n",
    "        ''' \n",
    "        adicona os dados coletados ao dataset\n",
    "        '''\n",
    "        for index, row in self.ranking.iterrows():\n",
    "            if row['Extrator'] == 'ExtratorAcafe':\n",
    "                row['link site'] = acafe.url\n",
    "                row['Inicio incrição'] = acafe.inicio_das_insc\n",
    "                row['Fim inscrição'] = acafe.termino_das_insc\n",
    "                row['Primiera fase'] = acafe.primeira_fase\n",
    "            elif row['Extrator'] == 'ExtratorUepg':\n",
    "                row['link site'] = uepg.url\n",
    "                row['Inicio incrição'] = uepg.inicio_das_insc\n",
    "                row['Fim inscrição'] = uepg.termino_das_insc\n",
    "                row['Primiera fase'] = uepg.primeira_fase\n",
    "            elif row['Extrator'] == 'ExtratorUnifesp':\n",
    "                row['link site'] = unifesp.url\n",
    "                row['Inicio incrição'] = unifesp.inicio_das_insc\n",
    "                row['Fim inscrição'] = unifesp.termino_das_insc\n",
    "                row['Primiera fase'] = unifesp.primeira_fase\n",
    "                row['Primeira fase (segundo dia)'] = unifesp.primeira_fase_dia2\n",
    "            elif row['Extrator'] == 'ExtratorNucvest':\n",
    "                row['link site'] = nucvest.url\n",
    "                row['Inicio incrição'] = nucvest.inicio_das_insc\n",
    "                row['Fim inscrição'] = nucvest.termino_das_insc\n",
    "                row['Primiera fase'] = nucvest.primeira_fase\n",
    "\n",
    "    def salvar(self):\n",
    "        '''  \n",
    "        salva o dataset em csv\n",
    "        '''\n",
    "        self.ranking.to_csv('rankingteste.csv', sep = ',', encoding = 'utf-8', index = False, quoting = csv.QUOTE_ALL)"
   ]
  },
  {
   "cell_type": "code",
   "execution_count": 156,
   "metadata": {},
   "outputs": [],
   "source": [
    "ranking = ObterDados()\n",
    "ranking.adicionar_a_tabela()"
   ]
  },
  {
   "cell_type": "markdown",
   "metadata": {},
   "source": [
    "# Tratamento"
   ]
  },
  {
   "cell_type": "code",
   "execution_count": 157,
   "metadata": {},
   "outputs": [],
   "source": [
    "class Tratando():\n",
    "    def __init__(self, df, colunas_data = ['Inicio incrição', 'Fim inscrição', 'Início isenção ', 'Fim isenção',\n",
    "    'Primiera fase', 'Primeira fase (segundo dia)', 'Segunda fase',\n",
    "    'Segunda fase (segundo dia)', 'Resultado']):\n",
    "        self.df = df\n",
    "        self.colunas_data = colunas_data\n",
    "        self.coluna_metadados = 'metadados'\n",
    "\n",
    "    def info_adicional(self, texto):\n",
    "        info_adicional = [ \n",
    "        'ENEM'\n",
    "        'EAD'\n",
    "        'SISU'\n",
    "        'Cancelado'\n",
    "        ]\n",
    "        texto_final = ''\n",
    "        for info in info_adicional:\n",
    "            if info in texto:\n",
    "                texto_final += f'''{info}\\n''' \n",
    "        return f'''{self.coluna}: {texto_final}''' if texto_final != '' else ''\n",
    "\n",
    "    def encontrar_datas(self, texto):\n",
    "        r = re.compile(r'\\d{2}/\\d{2}/\\d{4}')\n",
    "        s =  re.compile(r'(\\d{2}/\\d{2}[^/0-9])')\n",
    "        texto = str(texto)\n",
    "        r = str(r.findall(texto))[2:-2]\n",
    "        s = str(s.findall(texto))[2:-3]\n",
    "        if r != '':\n",
    "            self.dia = r[:2]\n",
    "            self.mes = r[3:5]\n",
    "            self.ano = r[6:]\n",
    "            self.data = f'''{self.ano}-{self.mes}-{self.dia}'''\n",
    "        elif s != '':\n",
    "            self.dia = s[:2]\n",
    "            self.mes = s[3:5]\n",
    "            self.data = f'''-{self.mes}-{self.dia}'''\n",
    "        else:\n",
    "            self.data = ''\n",
    "            self.metadados = self.info_adicional(texto)\n",
    "    \n",
    "    def adicionar_ano(self, texto):\n",
    "        r = re.compile(r'\\d{2}/\\d{2}/\\d{4}')\n",
    "        r = str(r.findall(texto))[2:-2]\n",
    "        if r != '':\n",
    "            self.proximo_dia = r[:2]\n",
    "            self.proximo_mes = r[3:5]\n",
    "            self.proximo_ano = r[6:]\n",
    "        else:\n",
    "            self.proximo_dia = ''\n",
    "            self.proximo_mes = ''\n",
    "            self.proximo_ano = ''\n",
    "\n",
    "    def tratar_datas(self):\n",
    "        for index, row in self.df.iterrows():\n",
    "            for i in range(len(self.colunas_data)):\n",
    "                self.coluna = self.colunas_data[i] \n",
    "                try:\n",
    "                    self.proxima_coluna = self.colunas_data[i+1] #caso a data não tenha o ano, pegamos da próxima data (ex: incrições de 20/10 a 20/11/2021)\n",
    "                    self.adicionar_ano(row[self.proxima_coluna])\n",
    "                except:\n",
    "                    self.proxima_coluna = ''\n",
    "                self.metadados = ''\n",
    "                self.encontrar_datas(row[self.coluna])\n",
    "                if self.data != '':\n",
    "                    if str(self.data)[0] == '-':\n",
    "                        self.data = str(self.proximo_ano) + str(self.data)\n",
    "                self.df.loc[index, self.coluna_metadados] += self.metadados\n",
    "                self.df.loc[index, self.coluna] = self.data\n",
    "\n",
    "    def salvar(self):\n",
    "        '''  \n",
    "        salva o dataset em csv\n",
    "        '''\n",
    "        self.df = self.df.drop(columns=['Extrator'])\n",
    "        self.df.to_csv('ranking_tratado.csv', sep = ',', encoding = 'utf-8', index = False, quoting = csv.QUOTE_ALL)\n",
    "            "
   ]
  },
  {
   "cell_type": "code",
   "execution_count": 158,
   "metadata": {},
   "outputs": [],
   "source": [
    "df_completo = ranking.ranking\n",
    "df_tratado = Tratando(df_completo)\n",
    "df_tratado.tratar_datas()"
   ]
  },
  {
   "cell_type": "markdown",
   "metadata": {},
   "source": [
    "# Visualização"
   ]
  },
  {
   "cell_type": "code",
   "execution_count": 280,
   "metadata": {},
   "outputs": [],
   "source": [
    "class Ordenar():\n",
    "    def __init__(self, df, tirar_sem_datas = False):\n",
    "        '''\n",
    "        Ordena a tabela de a cordo com a preferência do usuário\n",
    "\n",
    "        df = dataframe utilizado\n",
    "        tirar_sem_datas = tira da visualização as universidades que não possuem datas para nenhum dos processos.\n",
    "        '''\n",
    "        self.df = df\n",
    "        colunas_int = [\n",
    "            'Ranking', 'Posição em Pesquisa', 'Posição em Ensino', 'Posição em Mercado', 'Posição em Inovação', 'Posição em Internacionalização'\n",
    "            ]\n",
    "        self.colunas_data = [\n",
    "            'Inicio incrição', 'Fim inscrição', 'Início isenção ', 'Fim isenção', 'Primiera fase', \n",
    "            'Primeira fase (segundo dia)', 'Segunda fase', 'Segunda fase (segundo dia)',\t'Resultado'\n",
    "            ]\n",
    "        self.colunas_colocacao = [ \n",
    "            'Posição em Ensino', 'Posição em Pesquisa',  'Posição em Mercado',  'Posição em Inovação', \n",
    "            'Posição em Internacionalização', 'Nota em Internacionalização', 'Nota'\n",
    "        ]\n",
    "\n",
    "        if tirar_sem_datas == 'True':\n",
    "            self.df = self.df.replace('', np.nan)\n",
    "            self.df = self.df.dropna(how = 'all', subset = [self.colunas_data])\n",
    "            self.df = self.df.fillna('')\n",
    "            \n",
    "        self.estados = df.Estado.unique()\n",
    "        self.df = self.df.rename(columns={'metadados':'Mais Informações'})\n",
    "        self.df[colunas_int] = self.df[colunas_int].astype(int)\n",
    "        self.df['Nota'] = self.df['Nota'].astype(float)\n",
    "        \n",
    "    def help(self):\n",
    "        print(f'''Lista de comandos:\n",
    "    .ruf(\\\"parametro\\\") -> Ordena as universidade de acordo com o a RUF 2019, da mais bem colocada para a menos\n",
    "    \\tparâmetros:\n",
    "    \\t\\t'Posição em Ensino', 'Posição em Pesquisa',  'Posição em Mercado',  'Posição em Inovação', \n",
    "    \\t\\t'Posição em Internacionalização', 'Nota em Internacionalização', 'Nota'.\n",
    "    .publica() -> Exibe apenas as universidades públicas (Federais, Estaduais ou Municipais).\n",
    "    .privada() -> Exibe apenas as universidades privadas.\n",
    "    .estado(\\\"estado\\\") -> Exibe as faculdades do estado passado como parâmetro.\n",
    "    .processo(\\\"etapa\\\", \\\"periodo\\\") -> Ordena a tabela da data mais antiga para a mais recente do processo escolhido.\n",
    "    \\tparâmetros: \n",
    "    \\t\\tetapa = \\\"ins\\\" (inscrição), \\\"ise\\\" (Isenção), \\\"pri\\\" (Primeira fase), \\\"seg\\\" (Segunda Fase), \\\"res\\\" (Resultado)\n",
    "    \\t\\tperido = \\\"i\\\" (início), \\\"f\\\" (fim), \\\"p\\\" (primeiro dia), \\\"s\\\" (segundo dia)''')\n",
    "\n",
    "    def ruf(self, parametro : str):\n",
    "        if parametro in self.colunas_colocacao:\n",
    "            df_ = self.df \n",
    "            df_ = df_.sort_values(by = parametro)\n",
    "            return display(df_)\n",
    "        else:\n",
    "            print(f'''\\\"{parametro}\\\" não é válido, confia a lista de parâmetros válidos:\\n{self.colunas_colocacao}''')\n",
    "\n",
    "    def publica(self):\n",
    "        df_ = self.df\n",
    "        df_ = df_.loc[df_['Pública ou Privada']!='Privada']\n",
    "        return display(df_)\n",
    "\n",
    "    def privada(self):\n",
    "        df_ = self.df\n",
    "        df_ = df_.loc[df_['Pública ou Privada']=='Privada']\n",
    "        return display(df_)\n",
    "\n",
    "    def estado(self, sigla_estado : str):\n",
    "        if sigla_estado in self.estados:\n",
    "            df_ = self.df\n",
    "            df_ = df_.loc[df_['Estado']== sigla_estado]\n",
    "            return display(df_)\n",
    "        else:\n",
    "            return print(f'''\\\"{sigla_estado}\\\" não é um estado válido. Confira a lista de estados válidos: \\n{self.estados}''')\n",
    "    \n",
    "    def ensino(self):\n",
    "        df_ = self.df \n",
    "        df_ = df_.sort_values(by = 'Posição em Ensino')\n",
    "        return display(df_)\n",
    "    \n",
    "    def coincide(self, etapa : str):\n",
    "        if  etapa in self.colunas_data:\n",
    "            df_ = self.df \n",
    "            df_ = pd.concat(linha for _, linha in df_.groupby(etapa) if len(linha) > 1)\n",
    "            df_ = df_.loc[df_[etapa]!= '']\n",
    "            print(f'''Datas coincidentes em \\\"{etapa}\\\"''')\n",
    "            return display(df_)\n",
    "        else:\n",
    "             print(f'''\\\"{etapa}\\\" não é válido, confia a lista de parâmetros válidos:\\n{self.colunas_data}''')\n",
    "\n",
    "    def processo(self, etapa, periodo):\n",
    "        df_ = self.df\n",
    "        df_[self.colunas_data] =  df_[self.colunas_data].apply(pd.to_datetime, format='%Y-%m-%d')\n",
    "        if etapa == 'ins':\n",
    "            if periodo == 'i': \n",
    "                df_ = df_.sort_values(by = 'Inicio incrição')\n",
    "                return df_.replace({pd.NaT: \"\"})\n",
    "            elif periodo == 'f':\n",
    "                df_ = df_.sort_values(by = 'Fim inscrição')\n",
    "                return df_.replace({pd.NaT: \"\"})\n",
    "            else:\n",
    "                print(f'''\\\"{periodo}\\\" é um período inválido para Inscrição.\n",
    "Use \\\".help()\\\" para verificar a lista de parâmetros possíveis para este comando.''')\n",
    "        elif etapa == 'ise':\n",
    "            if periodo == 'i': \n",
    "                df_ = df_.sort_values(by = 'Início isenção ')\n",
    "                return df_.replace({pd.NaT: \"\"})\n",
    "            elif periodo == 'f':\n",
    "                df_ = df_.sort_values(by = 'Fim isenção')\n",
    "                return df_.replace({pd.NaT: \"\"})\n",
    "            else:\n",
    "                print(f'''\\\"{periodo}\\\" é um período inválido para Isenção de Taxa.\n",
    "Use \\\".help()\\\" para verificar a lista de parâmetros possíveis para este comando.''')\n",
    "        elif etapa == 'pri':\n",
    "            if periodo == 'p':\n",
    "                df_ = df_.sort_values(by = 'Primiera fase')\n",
    "                return df_.replace({pd.NaT: \"\"})\n",
    "            elif periodo == 's':\n",
    "                df_ = df_.sort_values(by = 'Primeira fase (segundo dia)')\n",
    "                return df_.replace({pd.NaT: \"\"})\n",
    "            else:\n",
    "                print(f'''\\\"{periodo}\\\" é um período inválido para Primeira fase.\n",
    "Use \\\".help()\\\" para verificar a lista de parâmetros possíveis para este comando.''')\n",
    "        elif etapa == 'seg':\n",
    "            if periodo == 'p':\n",
    "                df_ = df_.sort_values(by = 'Segunda fase')\n",
    "                return df_.replace({pd.NaT: \"\"})\n",
    "            elif periodo == 's':\n",
    "                df_ = df_.sort_values(by = 'Segunda fase (segundo dia)')\n",
    "                return df_.replace({pd.NaT: \"\"})\n",
    "            else:\n",
    "                print(f'''\\\"{periodo}\\\" é um período inválido para Segunda fase.\n",
    "Use \\\".help()\\\" para verificar a lista de parâmetros possíveis para este comando.''')\n",
    "        elif etapa == 'res':\n",
    "            df_ = df_.sort_values(by = 'Resultado')\n",
    "            return df_.replace({pd.NaT: \"\"})\n",
    "        else:\n",
    "            print(f'''\\\"{etapa}\\\" é uma etapa inválida.\\nUse \\\".help()\\\" para verificar a lista de parâmetros possíveis para este comando.''')"
   ]
  },
  {
   "cell_type": "code",
   "execution_count": 282,
   "metadata": {},
   "outputs": [
    {
     "name": "stdout",
     "output_type": "stream",
     "text": [
      "Lista de comandos:\n",
      "    .ruf(\"parametro\") -> Ordena as universidade de acordo com o a RUF 2019, da mais bem colocada para a menos\n",
      "    \tparâmetros:\n",
      "    \t\t'Posição em Ensino', 'Posição em Pesquisa',  'Posição em Mercado',  'Posição em Inovação', \n",
      "    \t\t'Posição em Internacionalização', 'Nota em Internacionalização', 'Nota'.\n",
      "    .publica() -> Exibe apenas as universidades públicas (Federais, Estaduais ou Municipais).\n",
      "    .privada() -> Exibe apenas as universidades privadas.\n",
      "    .estado(\"estado\") -> Exibe as faculdades do estado passado como parâmetro.\n",
      "    .processo(\"etapa\", \"periodo\") -> Ordena a tabela da data mais antiga para a mais recente do processo escolhido.\n",
      "    \tparâmetros: \n",
      "    \t\tetapa = \"ins\" (inscrição), \"ise\" (Isenção), \"pri\" (Primeira fase), \"seg\" (Segunda Fase), \"res\" (Resultado)\n",
      "    \t\tperido = \"i\" (início), \"f\" (fim), \"p\" (primeiro dia), \"s\" (segundo dia)\n"
     ]
    }
   ],
   "source": [
    "tabela = Ordenar(df_tratado.df)\n",
    "tabela.help()"
   ]
  },
  {
   "cell_type": "code",
   "execution_count": 148,
   "metadata": {},
   "outputs": [
    {
     "data": {
      "text/plain": [
       "Index(['Ranking', 'Instituição', 'Pública ou Privada', 'Estado',\n",
       "       'Inicio incrição', 'Fim inscrição', 'Início isenção ', 'Fim isenção',\n",
       "       'Primiera fase', 'Primeira fase (segundo dia)', 'Segunda fase',\n",
       "       'Segunda fase (segundo dia)', 'Resultado', 'link site', 'metadados',\n",
       "       'Posição em Ensino', 'Nota em Ensino', 'Posição em Pesquisa',\n",
       "       'Nota em Pesquisa', 'Posição em Mercado', 'Nota em Mercado',\n",
       "       'Posição em Inovação', 'Nota em Inovação',\n",
       "       'Posição em Internacionalização', 'Nota em Internacionalização', 'Nota',\n",
       "       'Extrator'],\n",
       "      dtype='object')"
      ]
     },
     "execution_count": 148,
     "metadata": {},
     "output_type": "execute_result"
    }
   ],
   "source": [
    "df_tratado.df.columns"
   ]
  }
 ],
 "metadata": {
  "interpreter": {
   "hash": "12b3628791313994e768018f389eed00be69fad8b2fe3edc75740f26a6d49a01"
  },
  "kernelspec": {
   "display_name": "Python 3.9.4 64-bit",
   "language": "python",
   "name": "python3"
  },
  "language_info": {
   "codemirror_mode": {
    "name": "ipython",
    "version": 3
   },
   "file_extension": ".py",
   "mimetype": "text/x-python",
   "name": "python",
   "nbconvert_exporter": "python",
   "pygments_lexer": "ipython3",
   "version": "3.9.4"
  },
  "orig_nbformat": 4
 },
 "nbformat": 4,
 "nbformat_minor": 2
}
